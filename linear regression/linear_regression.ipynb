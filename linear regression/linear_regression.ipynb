{
 "cells": [
  {
   "cell_type": "markdown",
   "id": "ecef77c9",
   "metadata": {},
   "source": [
    "## Libraries"
   ]
  },
  {
   "cell_type": "code",
   "execution_count": 3,
   "id": "d2228786",
   "metadata": {},
   "outputs": [],
   "source": [
    "import numpy as np \n",
    "from sklearn.datasets import make_regression\n",
    "import matplotlib.pyplot as plt"
   ]
  },
  {
   "cell_type": "markdown",
   "id": "fc7b64a7",
   "metadata": {},
   "source": [
    "## Dataset"
   ]
  },
  {
   "cell_type": "code",
   "execution_count": 20,
   "id": "cb4e273b",
   "metadata": {},
   "outputs": [
    {
     "data": {
      "text/plain": [
       "<matplotlib.collections.PathCollection at 0x1d144251e50>"
      ]
     },
     "execution_count": 20,
     "metadata": {},
     "output_type": "execute_result"
    },
    {
     "data": {
      "image/png": "[encoded data removed]",
      "text/plain": [
       "<Figure size 640x480 with 1 Axes>"
      ]
     },
     "metadata": {},
     "output_type": "display_data"
    }
   ],
   "source": [
    "samples, targets = make_regression(n_samples=100, n_features=1, noise=10)\n",
    "# dataset ploting\n",
    "plt.scatter(samples,targets)"
   ]
  },
  {
   "cell_type": "markdown",
   "id": "8549b38a",
   "metadata": {},
   "source": [
    "## Vérification des matrices"
   ]
  },
  {
   "cell_type": "code",
   "execution_count": 27,
   "id": "617fdf65",
   "metadata": {},
   "outputs": [
    {
     "name": "stdout",
     "output_type": "stream",
     "text": [
      "samples Dimension =>  (100, 1)\n",
      "targets Dimension =>  (100, 1)\n"
     ]
    },
    {
     "data": {
      "text/plain": [
       "array([[ 33.12144678],\n",
       "       [  6.43272367],\n",
       "       [  5.15796344],\n",
       "       [ 16.95391286],\n",
       "       [-55.28298518],\n",
       "       [-14.4378417 ],\n",
       "       [ -4.0329576 ],\n",
       "       [ 32.88229365],\n",
       "       [ 14.93858262],\n",
       "       [ -7.39009427],\n",
       "       [-23.64017288],\n",
       "       [-35.31919433],\n",
       "       [  8.5425413 ],\n",
       "       [-17.2486493 ],\n",
       "       [ 48.5393991 ],\n",
       "       [  3.3222523 ],\n",
       "       [-33.67562718],\n",
       "       [  3.30843244],\n",
       "       [ 29.16508508],\n",
       "       [-15.63465954],\n",
       "       [ 40.1090275 ],\n",
       "       [-43.34098908],\n",
       "       [  7.85112872],\n",
       "       [-22.45070447],\n",
       "       [-36.63872728],\n",
       "       [ -3.80287682],\n",
       "       [ 42.84932647],\n",
       "       [ 27.04117364],\n",
       "       [ 29.35876153],\n",
       "       [  0.93846975],\n",
       "       [ -6.30203243],\n",
       "       [ 21.33153911],\n",
       "       [-36.17942689],\n",
       "       [-23.9594684 ],\n",
       "       [-26.64600261],\n",
       "       [ 18.62057911],\n",
       "       [ -1.97083474],\n",
       "       [ -1.90042579],\n",
       "       [-21.680954  ],\n",
       "       [-35.96666682],\n",
       "       [-24.81890753],\n",
       "       [ 18.67177507],\n",
       "       [-18.59709113],\n",
       "       [ 10.94488989],\n",
       "       [-23.23908157],\n",
       "       [-23.07774627],\n",
       "       [ 23.69749113],\n",
       "       [-25.41937961],\n",
       "       [-11.29083395],\n",
       "       [ -1.87878087],\n",
       "       [ -0.46736703],\n",
       "       [-19.82317184],\n",
       "       [-12.23142083],\n",
       "       [ -2.6382233 ],\n",
       "       [ 41.83130982],\n",
       "       [ 50.9108847 ],\n",
       "       [ 40.54268711],\n",
       "       [ 22.43718659],\n",
       "       [ 11.05655408],\n",
       "       [ -0.84483689],\n",
       "       [ 43.67177023],\n",
       "       [-13.14513969],\n",
       "       [  5.76322352],\n",
       "       [ 37.002671  ],\n",
       "       [-32.41960452],\n",
       "       [-46.26311802],\n",
       "       [ 63.72453776],\n",
       "       [-11.62298443],\n",
       "       [-41.92400398],\n",
       "       [  5.41041463],\n",
       "       [-21.91574566],\n",
       "       [ 22.15802767],\n",
       "       [ -4.34554779],\n",
       "       [ 42.23484387],\n",
       "       [-16.4088864 ],\n",
       "       [ -8.16395259],\n",
       "       [ -8.79331329],\n",
       "       [ -9.86964105],\n",
       "       [ -9.49855498],\n",
       "       [  4.73776775],\n",
       "       [-20.34199654],\n",
       "       [-14.63380085],\n",
       "       [ -8.299302  ],\n",
       "       [ 39.29772365],\n",
       "       [ 69.20555397],\n",
       "       [  2.88955538],\n",
       "       [  4.74665397],\n",
       "       [-34.39321711],\n",
       "       [-19.42861168],\n",
       "       [-24.2755898 ],\n",
       "       [-32.79425039],\n",
       "       [ 19.05087711],\n",
       "       [  7.06953136],\n",
       "       [-59.52582236],\n",
       "       [  9.04636524],\n",
       "       [ -4.20675944],\n",
       "       [-10.89968886],\n",
       "       [-13.44411877],\n",
       "       [ -8.07356309],\n",
       "       [ 15.45510014]])"
      ]
     },
     "execution_count": 27,
     "metadata": {},
     "output_type": "execute_result"
    }
   ],
   "source": [
    "print(\"samples Dimension => \",samples.shape)\n",
    "samples\n",
    "targets = targets.reshape(targets.shape[0],1)\n",
    "print(\"targets Dimension => \",targets.shape)\n",
    "targets"
   ]
  },
  {
   "cell_type": "markdown",
   "id": "3ac8835b",
   "metadata": {},
   "source": [
    "### X_samples"
   ]
  },
  {
   "cell_type": "code",
   "execution_count": 26,
   "id": "966657ea",
   "metadata": {},
   "outputs": [
    {
     "name": "stdout",
     "output_type": "stream",
     "text": [
      "X_samples dimension => (100, 2)\n"
     ]
    },
    {
     "data": {
      "text/plain": [
       "array([[ 1.12266397,  1.        ],\n",
       "       [ 0.10126925,  1.        ],\n",
       "       [ 0.37834146,  1.        ],\n",
       "       [ 0.56220969,  1.        ],\n",
       "       [-1.71703797,  1.        ],\n",
       "       [-0.35154729,  1.        ],\n",
       "       [-0.3132064 ,  1.        ],\n",
       "       [ 1.8168649 ,  1.        ],\n",
       "       [ 0.65878411,  1.        ],\n",
       "       [-0.35750309,  1.        ],\n",
       "       [-1.12446162,  1.        ],\n",
       "       [-1.21018046,  1.        ],\n",
       "       [ 0.84121091,  1.        ],\n",
       "       [-0.58286725,  1.        ],\n",
       "       [ 1.81616207,  1.        ],\n",
       "       [-0.57531779,  1.        ],\n",
       "       [-0.22849679,  1.        ],\n",
       "       [-0.33391402,  1.        ],\n",
       "       [ 0.50018869,  1.        ],\n",
       "       [-0.3160772 ,  1.        ],\n",
       "       [ 1.48146678,  1.        ],\n",
       "       [-1.34455647,  1.        ],\n",
       "       [ 0.7512792 ,  1.        ],\n",
       "       [-1.15609409,  1.        ],\n",
       "       [-0.90676416,  1.        ],\n",
       "       [ 0.31563391,  1.        ],\n",
       "       [ 1.7300138 ,  1.        ],\n",
       "       [ 0.68345996,  1.        ],\n",
       "       [ 0.67124818,  1.        ],\n",
       "       [ 0.41538865,  1.        ],\n",
       "       [ 0.01423958,  1.        ],\n",
       "       [ 1.11596941,  1.        ],\n",
       "       [-1.63689358,  1.        ],\n",
       "       [-1.02434175,  1.        ],\n",
       "       [-0.93398085,  1.        ],\n",
       "       [ 0.21118833,  1.        ],\n",
       "       [ 0.08437876,  1.        ],\n",
       "       [-0.41350397,  1.        ],\n",
       "       [-0.38497825,  1.        ],\n",
       "       [-1.49798722,  1.        ],\n",
       "       [-1.25560827,  1.        ],\n",
       "       [ 0.75328321,  1.        ],\n",
       "       [-0.76252565,  1.        ],\n",
       "       [ 0.26559974,  1.        ],\n",
       "       [-0.55002929,  1.        ],\n",
       "       [-0.68883039,  1.        ],\n",
       "       [ 1.21733201,  1.        ],\n",
       "       [-0.75169854,  1.        ],\n",
       "       [ 0.18473225,  1.        ],\n",
       "       [-0.25071343,  1.        ],\n",
       "       [ 0.6469404 ,  1.        ],\n",
       "       [-0.99431084,  1.        ],\n",
       "       [-0.83503582,  1.        ],\n",
       "       [ 0.14446268,  1.        ],\n",
       "       [ 1.2784394 ,  1.        ],\n",
       "       [ 1.78707841,  1.        ],\n",
       "       [ 1.46708863,  1.        ],\n",
       "       [ 0.36316228,  1.        ],\n",
       "       [ 0.05521706,  1.        ],\n",
       "       [-0.13558656,  1.        ],\n",
       "       [ 1.93263616,  1.        ],\n",
       "       [-0.76242334,  1.        ],\n",
       "       [-0.35775983,  1.        ],\n",
       "       [ 1.11292078,  1.        ],\n",
       "       [-0.64119135,  1.        ],\n",
       "       [-1.415172  ,  1.        ],\n",
       "       [ 1.86024854,  1.        ],\n",
       "       [-0.20603039,  1.        ],\n",
       "       [-1.70436812,  1.        ],\n",
       "       [-0.40422037,  1.        ],\n",
       "       [-0.3878061 ,  1.        ],\n",
       "       [ 1.02380818,  1.        ],\n",
       "       [-0.22529621,  1.        ],\n",
       "       [ 1.30820283,  1.        ],\n",
       "       [-0.08311982,  1.        ],\n",
       "       [-0.69706993,  1.        ],\n",
       "       [-0.18076883,  1.        ],\n",
       "       [-0.51724231,  1.        ],\n",
       "       [-0.42919692,  1.        ],\n",
       "       [ 0.4645771 ,  1.        ],\n",
       "       [-0.41436814,  1.        ],\n",
       "       [-1.11018008,  1.        ],\n",
       "       [-0.06273299,  1.        ],\n",
       "       [ 1.26117122,  1.        ],\n",
       "       [ 2.57285837,  1.        ],\n",
       "       [-0.03220427,  1.        ],\n",
       "       [-0.7684037 ,  1.        ],\n",
       "       [-1.31819175,  1.        ],\n",
       "       [-0.91568249,  1.        ],\n",
       "       [-1.17197625,  1.        ],\n",
       "       [-0.21268476,  1.        ],\n",
       "       [ 0.61002222,  1.        ],\n",
       "       [ 0.22396848,  1.        ],\n",
       "       [-2.29267622,  1.        ],\n",
       "       [ 0.47268279,  1.        ],\n",
       "       [ 0.09645447,  1.        ],\n",
       "       [-0.00812249,  1.        ],\n",
       "       [-0.17350886,  1.        ],\n",
       "       [-0.15739819,  1.        ],\n",
       "       [ 1.10140362,  1.        ]])"
      ]
     },
     "execution_count": 26,
     "metadata": {},
     "output_type": "execute_result"
    }
   ],
   "source": [
    "X_samples = np.hstack((samples, np.ones(samples.shape)))\n",
    "print(\"X_samples dimension =>\", X_samples.shape)\n",
    "X_samples"
   ]
  },
  {
   "cell_type": "markdown",
   "id": "08f1615c",
   "metadata": {},
   "source": [
    "## Les paramètres"
   ]
  },
  {
   "cell_type": "code",
   "execution_count": 30,
   "id": "6b37031c",
   "metadata": {},
   "outputs": [
    {
     "data": {
      "text/plain": [
       "array([[ 0.26034579],\n",
       "       [-0.72353766]])"
      ]
     },
     "execution_count": 30,
     "metadata": {},
     "output_type": "execute_result"
    }
   ],
   "source": [
    "theta = np.random.randn(2,1)\n",
    "theta"
   ]
  },
  {
   "cell_type": "markdown",
   "id": "5d99ff9a",
   "metadata": {},
   "source": [
    "## Modèles (Modèle linéaire)"
   ]
  },
  {
   "cell_type": "code",
   "execution_count": 34,
   "id": "a65fb967",
   "metadata": {},
   "outputs": [],
   "source": [
    "def model(x_samples,parameters):\n",
    "    return x_samples.dot(parameters)"
   ]
  },
  {
   "cell_type": "markdown",
   "id": "47b65611",
   "metadata": {},
   "source": [
    "## Test"
   ]
  },
  {
   "cell_type": "code",
   "execution_count": 37,
   "id": "53e24907",
   "metadata": {},
   "outputs": [
    {
     "data": {
      "text/plain": [
       "[<matplotlib.lines.Line2D at 0x1d1449812e0>]"
      ]
     },
     "execution_count": 37,
     "metadata": {},
     "output_type": "execute_result"
    },
    {
     "data": {
      "image/png": "[encoded data removed]",
      "text/plain": [
       "<Figure size 640x480 with 1 Axes>"
      ]
     },
     "metadata": {},
     "output_type": "display_data"
    }
   ],
   "source": [
    "plt.plot(samples, model(x_samples=X_samples,parameters=theta))\n"
   ]
  },
  {
   "cell_type": "markdown",
   "id": "bdd0fe5a",
   "metadata": {},
   "source": [
    "## Comparaison au résultat recherché"
   ]
  },
  {
   "cell_type": "code",
   "execution_count": 57,
   "id": "a062ca3c",
   "metadata": {},
   "outputs": [
    {
     "data": {
      "text/plain": [
       "[<matplotlib.lines.Line2D at 0x1d146110980>]"
      ]
     },
     "execution_count": 57,
     "metadata": {},
     "output_type": "execute_result"
    },
    {
     "data": {
      "image/png": "[encoded data removed]",
      "text/plain": [
       "<Figure size 640x480 with 1 Axes>"
      ]
     },
     "metadata": {},
     "output_type": "display_data"
    }
   ],
   "source": [
    "plt.scatter(samples ,targets ,c=\"b\")\n",
    "plt.plot(samples, model(x_samples=X_samples,parameters=theta) ,c=\"r\")"
   ]
  },
  {
   "cell_type": "markdown",
   "id": "adbab377",
   "metadata": {},
   "source": [
    "## Fonction coût"
   ]
  },
  {
   "cell_type": "code",
   "execution_count": 42,
   "id": "ae138081",
   "metadata": {},
   "outputs": [],
   "source": [
    "def cost_function(x_samples,parameters,y_targets):\n",
    "    m = len(y_targets)\n",
    "    sigma_sum = np.sum((model(x_samples=x_samples,parameters=parameters) - y_targets)**2)\n",
    "    return 1/(2*m) * sigma_sum"
   ]
  },
  {
   "cell_type": "markdown",
   "id": "9b8784f4",
   "metadata": {},
   "source": [
    "## Test"
   ]
  },
  {
   "cell_type": "code",
   "execution_count": 47,
   "id": "855b9e2c",
   "metadata": {},
   "outputs": [
    {
     "name": "stdout",
     "output_type": "stream",
     "text": [
      "Cost =>  338.0876269998123\n"
     ]
    }
   ],
   "source": [
    "print(\"Cost => \",cost_function(X_samples,theta,targets))"
   ]
  },
  {
   "cell_type": "markdown",
   "id": "a943b2ae",
   "metadata": {},
   "source": [
    "## Calcules de dérivation des sample values "
   ]
  },
  {
   "cell_type": "code",
   "execution_count": 51,
   "id": "f8e4360a",
   "metadata": {},
   "outputs": [],
   "source": [
    "def derive(x_samples,y_targets,parameters):\n",
    "    m = len(y_targets)\n",
    "    return 1/m * x_samples.T.dot(model(x_samples=x_samples,parameters=parameters) - y_targets)"
   ]
  },
  {
   "cell_type": "markdown",
   "id": "2edd6632",
   "metadata": {},
   "source": [
    "## Algorithme de minimisation soit Descente de gradient (Gradient Descent)"
   ]
  },
  {
   "cell_type": "code",
   "execution_count": 66,
   "id": "ed69f054",
   "metadata": {},
   "outputs": [],
   "source": [
    "def gradient_descent(learning_rate, x_samples, y_targets, parameters, n_iterations):\n",
    "    cost_history = np.zeros(n_iterations)    \n",
    "    for i in range(0,n_iterations):\n",
    "        parameters = parameters - learning_rate * derive(x_samples=x_samples,y_targets=y_targets,parameters=parameters)\n",
    "        cost_history[i] = cost_function(x_samples=x_samples,parameters=parameters,y_targets=y_targets) \n",
    "    \n",
    "    return parameters,cost_history"
   ]
  },
  {
   "cell_type": "markdown",
   "id": "b355e17a",
   "metadata": {},
   "source": [
    "## Recherche des paramètres adequats avec la fonction \"gradient_descent\""
   ]
  },
  {
   "cell_type": "code",
   "execution_count": 71,
   "id": "363f1add",
   "metadata": {},
   "outputs": [
    {
     "name": "stdout",
     "output_type": "stream",
     "text": [
      "Result =>  [[25.56703505]\n",
      " [-0.58306548]]\n"
     ]
    }
   ],
   "source": [
    "theta_final, cost_history = gradient_descent(learning_rate =0.01 ,x_samples=X_samples ,y_targets=targets ,parameters=theta , n_iterations=1000 )\n",
    "\n",
    "print(\"Result => \", theta_final)"
   ]
  },
  {
   "cell_type": "markdown",
   "id": "78f96ea6",
   "metadata": {},
   "source": [
    "## Ploting the result"
   ]
  },
  {
   "cell_type": "code",
   "execution_count": 72,
   "id": "1afb37d5",
   "metadata": {},
   "outputs": [
    {
     "name": "stdout",
     "output_type": "stream",
     "text": [
      "Prediction =>  [[ 28.12012361]\n",
      " [  2.00608911]\n",
      " [  9.09000393]\n",
      " [ 13.7909694 ]\n",
      " [-44.48263547]\n",
      " [ -9.57108726]\n",
      " [ -8.59082437]\n",
      " [ 45.86878304]\n",
      " [ 16.26009091]\n",
      " [ -9.72335941]\n",
      " [-29.33221512]\n",
      " [-31.52379182]\n",
      " [ 20.9242034 ]\n",
      " [-15.48525281]\n",
      " [ 45.85081387]\n",
      " [-15.29223562]\n",
      " [ -6.42505083]\n",
      " [ -9.12025696]\n",
      " [ 12.20527638]\n",
      " [ -8.66422241]\n",
      " [ 37.29364748]\n",
      " [-34.95938788]\n",
      " [ 18.62491626]\n",
      " [-30.14096363]\n",
      " [-23.76633653]\n",
      " [  7.48675778]\n",
      " [ 43.64825803]\n",
      " [ 16.89097922]\n",
      " [ 16.57876036]\n",
      " [ 10.03719073]\n",
      " [ -0.21900172]\n",
      " [ 27.94896358]\n",
      " [-42.43358092]\n",
      " [-26.77244687]\n",
      " [-24.46218667]\n",
      " [  4.81639399]\n",
      " [  1.57424925]\n",
      " [-11.15513591]\n",
      " [-10.42581796]\n",
      " [-38.88215716]\n",
      " [-32.68524608]\n",
      " [ 18.67615275]\n",
      " [-20.07858545]\n",
      " [  6.20753249]\n",
      " [-14.64568364]\n",
      " [-18.1944163 ]\n",
      " [ 30.54050476]\n",
      " [-19.80176846]\n",
      " [  4.13999054]\n",
      " [ -6.99306446]\n",
      " [ 15.95728228]\n",
      " [-26.00464546]\n",
      " [-21.9324556 ]\n",
      " [  3.11041687]\n",
      " [ 32.10283941]\n",
      " [ 45.10723074]\n",
      " [ 36.92604095]\n",
      " [  8.70191714]\n",
      " [  0.82867092]\n",
      " [ -4.04961192]\n",
      " [ 48.82871096]\n",
      " [-20.07596966]\n",
      " [ -9.7299237 ]\n",
      " [ 27.87101917]\n",
      " [-16.97642712]\n",
      " [-36.76481774]\n",
      " [ 46.97797422]\n",
      " [ -5.85065168]\n",
      " [-44.15870484]\n",
      " [-10.91778182]\n",
      " [-10.4981176 ]\n",
      " [ 25.59267418]\n",
      " [ -6.34322153]\n",
      " [ 32.86380218]\n",
      " [ -2.70819284]\n",
      " [-18.40507681]\n",
      " [ -5.20478851]\n",
      " [-13.80741776]\n",
      " [-11.55635808]\n",
      " [ 11.29479345]\n",
      " [-11.17723021]\n",
      " [-28.96707857]\n",
      " [ -2.18696207]\n",
      " [ 31.66134329]\n",
      " [ 65.19729463]\n",
      " [ -1.40643324]\n",
      " [-20.22886994]\n",
      " [-34.28532012]\n",
      " [-23.99435183]\n",
      " [-30.54702325]\n",
      " [ -6.02078426]\n",
      " [ 15.01339399]\n",
      " [  5.14314452]\n",
      " [-59.19999882]\n",
      " [ 11.50203204]\n",
      " [  1.88298944]\n",
      " [ -0.79073335]\n",
      " [ -5.01917249]\n",
      " [ -4.60727063]\n",
      " [ 27.57655951]]\n"
     ]
    }
   ],
   "source": [
    "prediction = model(X_samples,theta_final)\n",
    "print(\"Prediction => \",prediction)"
   ]
  },
  {
   "cell_type": "markdown",
   "id": "62056580",
   "metadata": {},
   "source": [
    "## Comparaison des courbes"
   ]
  },
  {
   "cell_type": "code",
   "execution_count": 73,
   "id": "cd543bdc",
   "metadata": {},
   "outputs": [
    {
     "data": {
      "text/plain": [
       "[<matplotlib.lines.Line2D at 0x1d146047aa0>]"
      ]
     },
     "execution_count": 73,
     "metadata": {},
     "output_type": "execute_result"
    },
    {
     "data": {
      "image/png": "[encoded data removed]",
      "text/plain": [
       "<Figure size 640x480 with 1 Axes>"
      ]
     },
     "metadata": {},
     "output_type": "display_data"
    }
   ],
   "source": [
    "plt.scatter(samples ,targets)\n",
    "plt.plot(samples ,prediction)"
   ]
  },
  {
   "cell_type": "markdown",
   "id": "e0902af5",
   "metadata": {},
   "source": [
    "## Observation de l'évolution de l'appratissage (courbe de la fonction coût)"
   ]
  },
  {
   "cell_type": "code",
   "execution_count": 74,
   "id": "74a8b567",
   "metadata": {},
   "outputs": [
    {
     "data": {
      "text/plain": [
       "[<matplotlib.lines.Line2D at 0x1d1461c4f80>]"
      ]
     },
     "execution_count": 74,
     "metadata": {},
     "output_type": "execute_result"
    },
    {
     "data": {
      "image/png": "[encoded data removed]",
      "text/plain": [
       "<Figure size 640x480 with 1 Axes>"
      ]
     },
     "metadata": {},
     "output_type": "display_data"
    }
   ],
   "source": [
    "plt.plot(range(1000),cost_history)"
   ]
  }
 ],
 "metadata": {
  "kernelspec": {
   "display_name": "Python 3",
   "language": "python",
   "name": "python3"
  },
  "language_info": {
   "codemirror_mode": {
    "name": "ipython",
    "version": 3
   },
   "file_extension": ".py",
   "mimetype": "text/x-python",
   "name": "python",
   "nbconvert_exporter": "python",
   "pygments_lexer": "ipython3",
   "version": "3.12.6"
  }
 },
 "nbformat": 4,
 "nbformat_minor": 5
}
